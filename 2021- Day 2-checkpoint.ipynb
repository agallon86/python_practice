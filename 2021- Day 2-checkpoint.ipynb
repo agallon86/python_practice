{
 "cells": [
  {
   "cell_type": "code",
   "execution_count": 51,
   "metadata": {},
   "outputs": [
    {
     "name": "stdout",
     "output_type": "stream",
     "text": [
      "150\n"
     ]
    }
   ],
   "source": [
    "import pandas as pd\n",
    "\n",
    "data = pd.read_csv('day_2_data.txt', sep=\" \", header=None, names = [\"instruction\", \"units\"])\n",
    "data = (data.groupby(by=[\"instruction\"]).sum()).reset_index()\n",
    "\n",
    "horizontal = 0\n",
    "depth = 0\n",
    "\n",
    "def position_moves(df,direction):\n",
    "    df = int(data[data[\"instruction\"]==direction][\"units\"])\n",
    "    return df\n",
    "\n",
    "horizontal = horizontal + position_moves(forward,\"forward\")\n",
    "depth = depth + position_moves(down,\"down\") - position_moves(up,\"up\")\n",
    "\n",
    "multiplication = horizontal*depth\n",
    "print(multiplication)\n",
    "\n",
    "# this took 40 minutes"
   ]
  }
 ],
 "metadata": {
  "kernelspec": {
   "display_name": "Python 3",
   "language": "python",
   "name": "python3"
  },
  "language_info": {
   "codemirror_mode": {
    "name": "ipython",
    "version": 3
   },
   "file_extension": ".py",
   "mimetype": "text/x-python",
   "name": "python",
   "nbconvert_exporter": "python",
   "pygments_lexer": "ipython3",
   "version": "3.7.6"
  }
 },
 "nbformat": 4,
 "nbformat_minor": 4
}
